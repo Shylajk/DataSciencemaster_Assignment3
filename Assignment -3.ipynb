{
 "cells": [
  {
   "cell_type": "markdown",
   "metadata": {},
   "source": [
    "<H3>Question 1.1</H3>\n",
    "<H5>Write a Python Program to implement your own myreduce() function which works exactly\n",
    "like Python's built-in function reduce()</H5>"
   ]
  },
  {
   "cell_type": "code",
   "execution_count": 13,
   "metadata": {},
   "outputs": [
    {
     "name": "stdout",
     "output_type": "stream",
     "text": [
      "258\n",
      "3604146000\n"
     ]
    }
   ],
   "source": [
    "a = [23,35,41,25,56,78]\n",
    "\n",
    "def myreduce(fun, seq):\n",
    "    res = 0\n",
    "    res = fun(seq)\n",
    "    return res\n",
    "\n",
    "def is_add(x):\n",
    "        Total = 0\n",
    "        for i in x:\n",
    "            Total = Total+i   \n",
    "        return Total \n",
    "\n",
    "def is_multiply(x):\n",
    "    Total =1\n",
    "    for i in a:\n",
    "        Total = Total*i\n",
    "    return Total \n",
    "\n",
    "print(myreduce(is_add,a))\n",
    "print(myreduce(is_multiply, a)) "
   ]
  },
  {
   "cell_type": "markdown",
   "metadata": {},
   "source": [
    "<H3>Question 1.2</H3>\n",
    "<H5>Write a Python program to implement your own myfilter() function which works exactly like\n",
    "Python's built-in function filter()</H5>"
   ]
  },
  {
   "cell_type": "code",
   "execution_count": 14,
   "metadata": {},
   "outputs": [
    {
     "name": "stdout",
     "output_type": "stream",
     "text": [
      "[2, 4, 6, 8, 10, 12, 14]\n",
      "[1, 3, 5, 7, 9, 13]\n"
     ]
    }
   ],
   "source": [
    "def myfilter(fun, seq):\n",
    "    res = []\n",
    "    for item in seq:\n",
    "        if fun(item):\n",
    "            res.append(item)\n",
    "    return res\n",
    "\n",
    "def is_even(x):\n",
    "    return x%2 == 0\n",
    "\n",
    "def is_odd(x):\n",
    "    return x%2 != 0\n",
    "\n",
    "\n",
    "lst = [1,2,3,4,5,6,7,8,9,10,12,13,14]\n",
    "print(myfilter(is_even, lst))\n",
    "print(myfilter(is_odd, lst))"
   ]
  },
  {
   "cell_type": "markdown",
   "metadata": {},
   "source": [
    "<H3>Quesion 2a</H3>\n",
    "<H5>Implement List comprehensions to produce the following lists.\n",
    "['A', 'C', 'A', 'D', 'G', 'I', ’L’, ‘ D’]</H5>"
   ]
  },
  {
   "cell_type": "code",
   "execution_count": 108,
   "metadata": {},
   "outputs": [
    {
     "name": "stdout",
     "output_type": "stream",
     "text": [
      "['A', 'C', 'A', 'D', 'G', 'I', 'L', 'D']\n"
     ]
    }
   ],
   "source": [
    "result=[]\n",
    "result=[letter for letter in \"ACADGILD\"]\n",
    "\n",
    "print(result)"
   ]
  },
  {
   "cell_type": "markdown",
   "metadata": {},
   "source": [
    "<H3> Question 2b.</H3>\n",
    "<H5>Implement List comprehensions to produce the following lists.\n",
    "['x', 'xx', 'xxx', 'xxxx', 'y', 'yy', 'yyy', 'yyyy', 'z', 'zz', 'zzz', 'zzzz']</H5>"
   ]
  },
  {
   "cell_type": "code",
   "execution_count": 119,
   "metadata": {},
   "outputs": [
    {
     "data": {
      "text/plain": [
       "['x', 'xx', 'xxx', 'xxxx', 'y', 'yy', 'yyy', 'yyyy', 'z', 'zz', 'zzz', 'zzzz']"
      ]
     },
     "execution_count": 119,
     "metadata": {},
     "output_type": "execute_result"
    }
   ],
   "source": [
    "a =['x','y','z']\n",
    "result=[i*n for i in a for n in range(1,5)]\n",
    "result"
   ]
  },
  {
   "cell_type": "markdown",
   "metadata": {},
   "source": [
    "<H3>Question 2c.</H3>\n",
    "<H5>Implement List comprehensions to produce the following lists.\n",
    "['x', 'y', 'z', 'xx', 'yy', 'zz', 'xx', 'yy', 'zz', 'xxxx', 'yyyy', 'zzzz']</H5>"
   ]
  },
  {
   "cell_type": "code",
   "execution_count": 121,
   "metadata": {},
   "outputs": [
    {
     "data": {
      "text/plain": [
       "['x', 'y', 'z', 'xx', 'yy', 'zz', 'xxx', 'yyy', 'zzz', 'xxxx', 'yyyy', 'zzzz']"
      ]
     },
     "execution_count": 121,
     "metadata": {},
     "output_type": "execute_result"
    }
   ],
   "source": [
    "a =['x','y','z']\n",
    "result=[i*n for n in range(1,5) for i in a]\n",
    "result"
   ]
  },
  {
   "cell_type": "markdown",
   "metadata": {},
   "source": [
    "<H3>Question 2d.</H3>\n",
    "<H5>Implement List comprehensions to produce the following lists.\n",
    " [[2], [3], [4], [3], [4], [5], [4], [5], [6]]</H5>"
   ]
  },
  {
   "cell_type": "code",
   "execution_count": 14,
   "metadata": {},
   "outputs": [
    {
     "data": {
      "text/plain": [
       "[[2], [3], [4], [3], [4], [5], [4], [5], [6]]"
      ]
     },
     "execution_count": 14,
     "metadata": {},
     "output_type": "execute_result"
    }
   ],
   "source": [
    "a =[2,3,4]\n",
    "result =[]\n",
    "result=[[i+n] for i in a for n in range(0,3)]\n",
    "result"
   ]
  },
  {
   "cell_type": "markdown",
   "metadata": {},
   "source": [
    "<H3>Question 2e</H3>\n",
    "<H5>Implement List comprehensions to produce the following lists.\n",
    "[[2, 3, 4, 5], [3, 4, 5, 6], [4, 5, 6, 7], [5, 6, 7, 8]]</H5>"
   ]
  },
  {
   "cell_type": "code",
   "execution_count": 11,
   "metadata": {},
   "outputs": [
    {
     "data": {
      "text/plain": [
       "[[2, 3, 4, 5], [3, 4, 5, 6], [4, 5, 6, 7], [5, 6, 7, 8]]"
      ]
     },
     "execution_count": 11,
     "metadata": {},
     "output_type": "execute_result"
    }
   ],
   "source": [
    "a =[2,3,4,5]\n",
    "result =[]\n",
    "result=[[i+n for i in a] for n in range(0,4)]    \n",
    "result"
   ]
  },
  {
   "cell_type": "markdown",
   "metadata": {},
   "source": [
    "<H3>Question 2f </H3>\n",
    "<H5>Implement List comprehensions to produce the following lists. [(1, 1), (2, 1), (3, 1), (1, 2), (2, 2), (3, 2), (1, 3), (2, 3), (3, 3)]</H5>"
   ]
  },
  {
   "cell_type": "code",
   "execution_count": 15,
   "metadata": {},
   "outputs": [
    {
     "name": "stdout",
     "output_type": "stream",
     "text": [
      "[(1, 1), (2, 1), (3, 1), (1, 2), (2, 2), (3, 2), (1, 3), (2, 3), (3, 3)]\n"
     ]
    }
   ],
   "source": [
    "a =[1,2,3]\n",
    "result =[]\n",
    "result=[(y,x) for x in a for y in range(1,4)]\n",
    "print(str(result))"
   ]
  },
  {
   "cell_type": "markdown",
   "metadata": {},
   "source": [
    "<H3> Question 3.</H3>\n",
    "<H5>Implement a function longestWord() that takes a list of words and returns the longest one.</H5>"
   ]
  },
  {
   "cell_type": "code",
   "execution_count": 26,
   "metadata": {},
   "outputs": [
    {
     "name": "stdout",
     "output_type": "stream",
     "text": [
      "Please enter a few words - shyla,raghunanadan,krishna,niyati,aravind\n",
      "longest word for the input provided is - raghunanadan\n"
     ]
    }
   ],
   "source": [
    "\n",
    "def get_longest_word(word_list):  \n",
    "    word_split = word_list.split(',')\n",
    "    longest_word = max(word_split ,key = len)  \n",
    "    return longest_word\n",
    "\n",
    "\n",
    "words = input('Please enter a few words as comma separated - ')\n",
    "print(\"longest word for the input provided is -\" , get_longest_word(words))  "
   ]
  },
  {
   "cell_type": "code",
   "execution_count": 22,
   "metadata": {},
   "outputs": [],
   "source": []
  }
 ],
 "metadata": {
  "kernelspec": {
   "display_name": "Python 3",
   "language": "python",
   "name": "python3"
  },
  "language_info": {
   "codemirror_mode": {
    "name": "ipython",
    "version": 3
   },
   "file_extension": ".py",
   "mimetype": "text/x-python",
   "name": "python",
   "nbconvert_exporter": "python",
   "pygments_lexer": "ipython3",
   "version": "3.6.5"
  }
 },
 "nbformat": 4,
 "nbformat_minor": 2
}
